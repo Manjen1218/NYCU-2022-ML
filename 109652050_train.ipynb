{
  "metadata": {
    "kernelspec": {
      "language": "python",
      "display_name": "Python 3",
      "name": "python3"
    },
    "language_info": {
      "pygments_lexer": "ipython3",
      "nbconvert_exporter": "python",
      "version": "3.6.4",
      "file_extension": ".py",
      "codemirror_mode": {
        "name": "ipython",
        "version": 3
      },
      "name": "python",
      "mimetype": "text/x-python"
    },
    "colab": {
      "provenance": []
    }
  },
  "nbformat_minor": 0,
  "nbformat": 4,
  "cells": [
    {
      "cell_type": "code",
      "source": [
        "import numpy as np\n",
        "import pandas as pd\n",
        "from sklearn.preprocessing import StandardScaler\n",
        "from sklearn.impute import KNNImputer\n",
        "from sklearn.linear_model import LogisticRegression, HuberRegressor\n",
        "from sklearn.metrics import roc_auc_score, accuracy_score"
      ],
      "metadata": {
        "_uuid": "8f2839f25d086af736a60e9eeb907d3b93b6e0e5",
        "_cell_guid": "b1076dfc-b9ad-4769-8c92-a6c4dae69d19",
        "execution": {
          "iopub.status.busy": "2022-08-31T05:34:50.203602Z",
          "iopub.execute_input": "2022-08-31T05:34:50.205426Z",
          "iopub.status.idle": "2022-08-31T05:34:50.215623Z",
          "shell.execute_reply.started": "2022-08-31T05:34:50.20538Z",
          "shell.execute_reply": "2022-08-31T05:34:50.214625Z"
        },
        "trusted": true,
        "id": "oRr11TUDlnqr"
      },
      "execution_count": 135,
      "outputs": []
    },
    {
      "cell_type": "code",
      "source": [
        "#load data\n",
        "df_train = pd.read_csv('train.csv')\n",
        "df_test = pd.read_csv('test.csv')\n",
        "\n",
        "print(\"train\", df_train.shape)\n",
        "print(\"test\", df_test.shape)"
      ],
      "metadata": {
        "execution": {
          "iopub.status.busy": "2022-08-31T05:22:55.819467Z",
          "iopub.execute_input": "2022-08-31T05:22:55.81978Z",
          "iopub.status.idle": "2022-08-31T05:22:56.037807Z",
          "shell.execute_reply.started": "2022-08-31T05:22:55.819758Z",
          "shell.execute_reply": "2022-08-31T05:22:56.03709Z"
        },
        "trusted": true,
        "colab": {
          "base_uri": "https://localhost:8080/"
        },
        "id": "LfXBo1eklnqs",
        "outputId": "383099c0-1201-45cd-aac9-4b45485cb9d9"
      },
      "execution_count": 136,
      "outputs": [
        {
          "output_type": "stream",
          "name": "stdout",
          "text": [
            "train (26570, 26)\n",
            "test (20775, 25)\n"
          ]
        }
      ]
    },
    {
      "cell_type": "code",
      "source": [
        "data = pd.concat([df_train, df_test])\n",
        "data['m3_missing'] = data['measurement_3'].isnull().astype(np.int8)\n",
        "data['m5_missing'] = data['measurement_5'].isnull().astype(np.int8)\n",
        "data['loading'] = np.log1p(data['loading'])"
      ],
      "metadata": {
        "execution": {
          "iopub.status.busy": "2022-08-31T05:23:52.069225Z",
          "iopub.execute_input": "2022-08-31T05:23:52.069535Z",
          "iopub.status.idle": "2022-08-31T05:23:52.090611Z",
          "shell.execute_reply.started": "2022-08-31T05:23:52.069504Z",
          "shell.execute_reply": "2022-08-31T05:23:52.089571Z"
        },
        "trusted": true,
        "id": "RdWf-4m9lnqt"
      },
      "execution_count": 137,
      "outputs": []
    },
    {
      "cell_type": "code",
      "source": [
        "#fill missing data\n",
        "print(df_train.isna().sum())"
      ],
      "metadata": {
        "colab": {
          "base_uri": "https://localhost:8080/"
        },
        "id": "CVbksvXpvQYF",
        "outputId": "e2489ed3-d0e8-426d-dba0-fb56bf4bbf4e"
      },
      "execution_count": 138,
      "outputs": [
        {
          "output_type": "stream",
          "name": "stdout",
          "text": [
            "id                   0\n",
            "product_code         0\n",
            "loading            250\n",
            "attribute_0          0\n",
            "attribute_1          0\n",
            "attribute_2          0\n",
            "attribute_3          0\n",
            "measurement_0        0\n",
            "measurement_1        0\n",
            "measurement_2        0\n",
            "measurement_3      381\n",
            "measurement_4      538\n",
            "measurement_5      676\n",
            "measurement_6      796\n",
            "measurement_7      937\n",
            "measurement_8     1048\n",
            "measurement_9     1227\n",
            "measurement_10    1300\n",
            "measurement_11    1468\n",
            "measurement_12    1601\n",
            "measurement_13    1774\n",
            "measurement_14    1874\n",
            "measurement_15    2009\n",
            "measurement_16    2110\n",
            "measurement_17    2284\n",
            "failure              0\n",
            "dtype: int64\n"
          ]
        }
      ]
    },
    {
      "cell_type": "markdown",
      "source": [
        "Filling NA"
      ],
      "metadata": {
        "id": "gh8MhIh4en3N"
      }
    },
    {
      "cell_type": "code",
      "source": [
        "feature = [f for f in df_test.columns if f.startswith('measurement') or f=='loading']\n",
        "\n",
        "fill_dict = {\n",
        "    'A': ['measurement_5','measurement_6','measurement_8'],\n",
        "    'B': ['measurement_4','measurement_5','measurement_7'],\n",
        "    'C': ['measurement_5','measurement_7','measurement_8','measurement_9'],\n",
        "    'D': ['measurement_5','measurement_6','measurement_7','measurement_8'],\n",
        "    'E': ['measurement_4','measurement_5','measurement_6','measurement_8'],\n",
        "    'F': ['measurement_4','measurement_5','measurement_6','measurement_7'],\n",
        "    'G': ['measurement_4','measurement_6','measurement_8','measurement_9'],\n",
        "    'H': ['measurement_4','measurement_5','measurement_7','measurement_8','measurement_9'],\n",
        "    'I': ['measurement_3','measurement_7','measurement_8']\n",
        "}"
      ],
      "metadata": {
        "execution": {
          "iopub.status.busy": "2022-08-31T05:23:58.851918Z",
          "iopub.execute_input": "2022-08-31T05:23:58.852496Z",
          "iopub.status.idle": "2022-08-31T05:24:07.73358Z",
          "shell.execute_reply.started": "2022-08-31T05:23:58.852473Z",
          "shell.execute_reply": "2022-08-31T05:24:07.732519Z"
        },
        "trusted": true,
        "id": "pNbuA-bXlnqt"
      },
      "execution_count": 139,
      "outputs": []
    },
    {
      "cell_type": "code",
      "source": [
        "#preprocessing\n",
        "for code in data.product_code.unique():\n",
        "    tmp = data[data.product_code==code]\n",
        "    column = fill_dict[code]\n",
        "    tmp_train = tmp[column+['measurement_17']].dropna(how='any')\n",
        "    tmp_test = tmp[(tmp[column].isnull().sum(axis=1)==0)&(tmp['measurement_17'].isnull())]\n",
        "    print(f\"code {code} has {len(tmp_test)} samples to fill nan\")\n",
        "    \n",
        "    model1 = HuberRegressor()\n",
        "    model1.fit(tmp_train[column], tmp_train['measurement_17'])\n",
        "    data.loc[(data.product_code==code)&(data[column].isnull().sum(axis=1)==0)&(data['measurement_17'].isnull()), 'measurement_17'] = model1.predict(tmp_test[column])\n",
        "\n",
        "    model2 = KNNImputer(n_neighbors=5)\n",
        "    data.loc[data.product_code==code, feature] = model2.fit_transform(data.loc[data.product_code==code, feature])"
      ],
      "metadata": {
        "colab": {
          "base_uri": "https://localhost:8080/"
        },
        "id": "UbUet0r31Hh1",
        "outputId": "ea9c9e01-e70f-401b-d33c-ef28a901feab"
      },
      "execution_count": 140,
      "outputs": [
        {
          "output_type": "stream",
          "name": "stdout",
          "text": [
            "code A has 386 samples to fill nan\n",
            "code B has 418 samples to fill nan\n",
            "code C has 391 samples to fill nan\n",
            "code D has 398 samples to fill nan\n",
            "code E has 429 samples to fill nan\n",
            "code F has 420 samples to fill nan\n",
            "code G has 373 samples to fill nan\n",
            "code H has 361 samples to fill nan\n",
            "code I has 377 samples to fill nan\n"
          ]
        }
      ]
    },
    {
      "cell_type": "code",
      "source": [
        "def scale(train_data, val_data, test_data, feats):\n",
        "    scaler = StandardScaler()\n",
        "    \n",
        "    scaled_train = scaler.fit_transform(train_data[feats])\n",
        "    scaled_val = scaler.transform(val_data[feats])\n",
        "    scaled_test = scaler.transform(test_data[feats])\n",
        "    \n",
        "    new_train = train_data.copy()\n",
        "    new_val = val_data.copy()\n",
        "    new_test = test_data.copy()\n",
        "    \n",
        "    new_train[feats] = scaled_train\n",
        "    new_val[feats] = scaled_val\n",
        "    new_test[feats] = scaled_test\n",
        "    \n",
        "    assert len(train_data) == len(new_train)\n",
        "    assert len(val_data) == len(new_val)\n",
        "    assert len(test_data) == len(new_test)\n",
        "    \n",
        "    return new_train, new_val, new_test"
      ],
      "metadata": {
        "execution": {
          "iopub.status.busy": "2022-08-31T05:24:12.457512Z",
          "iopub.execute_input": "2022-08-31T05:24:12.457817Z",
          "iopub.status.idle": "2022-08-31T05:24:12.464148Z",
          "shell.execute_reply.started": "2022-08-31T05:24:12.457794Z",
          "shell.execute_reply": "2022-08-31T05:24:12.463508Z"
        },
        "trusted": true,
        "id": "EFflM52nlnqt"
      },
      "execution_count": 141,
      "outputs": []
    },
    {
      "cell_type": "code",
      "source": [
        "train = data[data.failure.notnull()]\n",
        "test = data[data.failure.isnull()]\n",
        "print(train.shape, test.shape)"
      ],
      "metadata": {
        "execution": {
          "iopub.status.busy": "2022-08-31T05:24:16.555193Z",
          "iopub.execute_input": "2022-08-31T05:24:16.555559Z",
          "iopub.status.idle": "2022-08-31T05:24:16.57092Z",
          "shell.execute_reply.started": "2022-08-31T05:24:16.555534Z",
          "shell.execute_reply": "2022-08-31T05:24:16.569799Z"
        },
        "trusted": true,
        "colab": {
          "base_uri": "https://localhost:8080/"
        },
        "id": "OaJxAkxzlnqt",
        "outputId": "47812d99-8639-48af-bdd0-494773c84a9a"
      },
      "execution_count": 142,
      "outputs": [
        {
          "output_type": "stream",
          "name": "stdout",
          "text": [
            "(26570, 28) (20775, 28)\n"
          ]
        }
      ]
    },
    {
      "cell_type": "code",
      "source": [
        "x = train.drop(['failure'], axis=1)\n",
        "y = train['failure'].astype(int)\n",
        "test = test.drop(['failure'], axis=1)\n",
        "x.head()"
      ],
      "metadata": {
        "execution": {
          "iopub.status.busy": "2022-08-29T05:51:56.36641Z",
          "iopub.execute_input": "2022-08-29T05:51:56.36778Z",
          "iopub.status.idle": "2022-08-29T05:51:56.38597Z",
          "shell.execute_reply.started": "2022-08-29T05:51:56.367726Z",
          "shell.execute_reply": "2022-08-29T05:51:56.384411Z"
        },
        "trusted": true,
        "colab": {
          "base_uri": "https://localhost:8080/",
          "height": 299
        },
        "id": "qWW7b7BOlnqt",
        "outputId": "89b3f905-6642-44e7-8e5d-5188a482b045"
      },
      "execution_count": 143,
      "outputs": [
        {
          "output_type": "execute_result",
          "data": {
            "text/plain": [
              "   id product_code   loading attribute_0 attribute_1  attribute_2  \\\n",
              "0   0            A  4.395683  material_7  material_8            9   \n",
              "1   1            A  4.453067  material_7  material_8            9   \n",
              "2   2            A  4.424008  material_7  material_8            9   \n",
              "3   3            A  4.625659  material_7  material_8            9   \n",
              "4   4            A  5.242064  material_7  material_8            9   \n",
              "\n",
              "   attribute_3  measurement_0  measurement_1  measurement_2  ...  \\\n",
              "0            5            7.0            8.0            4.0  ...   \n",
              "1            5           14.0            3.0            3.0  ...   \n",
              "2            5           12.0            1.0            5.0  ...   \n",
              "3            5           13.0            2.0            6.0  ...   \n",
              "4            5            9.0            2.0            8.0  ...   \n",
              "\n",
              "   measurement_10  measurement_11  measurement_12  measurement_13  \\\n",
              "0          15.859          17.594          15.193          15.029   \n",
              "1          17.947          17.915          11.755          14.732   \n",
              "2          15.607          19.310          13.798          16.711   \n",
              "3          16.346          18.377          10.020          15.250   \n",
              "4          17.082          19.932          12.428          16.182   \n",
              "\n",
              "   measurement_14  measurement_15  measurement_16  measurement_17  m3_missing  \\\n",
              "0          16.180          13.034          14.684         764.100           0   \n",
              "1          15.425          14.395          15.631         682.057           0   \n",
              "2          18.631          14.094          17.946         663.376           0   \n",
              "3          15.562          16.154          17.172         826.282           0   \n",
              "4          12.760          13.153          16.412         579.885           0   \n",
              "\n",
              "   m5_missing  \n",
              "0           0  \n",
              "1           0  \n",
              "2           0  \n",
              "3           0  \n",
              "4           0  \n",
              "\n",
              "[5 rows x 27 columns]"
            ],
            "text/html": [
              "\n",
              "  <div id=\"df-d1dced2d-652d-4bb8-b050-fa48522a906b\">\n",
              "    <div class=\"colab-df-container\">\n",
              "      <div>\n",
              "<style scoped>\n",
              "    .dataframe tbody tr th:only-of-type {\n",
              "        vertical-align: middle;\n",
              "    }\n",
              "\n",
              "    .dataframe tbody tr th {\n",
              "        vertical-align: top;\n",
              "    }\n",
              "\n",
              "    .dataframe thead th {\n",
              "        text-align: right;\n",
              "    }\n",
              "</style>\n",
              "<table border=\"1\" class=\"dataframe\">\n",
              "  <thead>\n",
              "    <tr style=\"text-align: right;\">\n",
              "      <th></th>\n",
              "      <th>id</th>\n",
              "      <th>product_code</th>\n",
              "      <th>loading</th>\n",
              "      <th>attribute_0</th>\n",
              "      <th>attribute_1</th>\n",
              "      <th>attribute_2</th>\n",
              "      <th>attribute_3</th>\n",
              "      <th>measurement_0</th>\n",
              "      <th>measurement_1</th>\n",
              "      <th>measurement_2</th>\n",
              "      <th>...</th>\n",
              "      <th>measurement_10</th>\n",
              "      <th>measurement_11</th>\n",
              "      <th>measurement_12</th>\n",
              "      <th>measurement_13</th>\n",
              "      <th>measurement_14</th>\n",
              "      <th>measurement_15</th>\n",
              "      <th>measurement_16</th>\n",
              "      <th>measurement_17</th>\n",
              "      <th>m3_missing</th>\n",
              "      <th>m5_missing</th>\n",
              "    </tr>\n",
              "  </thead>\n",
              "  <tbody>\n",
              "    <tr>\n",
              "      <th>0</th>\n",
              "      <td>0</td>\n",
              "      <td>A</td>\n",
              "      <td>4.395683</td>\n",
              "      <td>material_7</td>\n",
              "      <td>material_8</td>\n",
              "      <td>9</td>\n",
              "      <td>5</td>\n",
              "      <td>7.0</td>\n",
              "      <td>8.0</td>\n",
              "      <td>4.0</td>\n",
              "      <td>...</td>\n",
              "      <td>15.859</td>\n",
              "      <td>17.594</td>\n",
              "      <td>15.193</td>\n",
              "      <td>15.029</td>\n",
              "      <td>16.180</td>\n",
              "      <td>13.034</td>\n",
              "      <td>14.684</td>\n",
              "      <td>764.100</td>\n",
              "      <td>0</td>\n",
              "      <td>0</td>\n",
              "    </tr>\n",
              "    <tr>\n",
              "      <th>1</th>\n",
              "      <td>1</td>\n",
              "      <td>A</td>\n",
              "      <td>4.453067</td>\n",
              "      <td>material_7</td>\n",
              "      <td>material_8</td>\n",
              "      <td>9</td>\n",
              "      <td>5</td>\n",
              "      <td>14.0</td>\n",
              "      <td>3.0</td>\n",
              "      <td>3.0</td>\n",
              "      <td>...</td>\n",
              "      <td>17.947</td>\n",
              "      <td>17.915</td>\n",
              "      <td>11.755</td>\n",
              "      <td>14.732</td>\n",
              "      <td>15.425</td>\n",
              "      <td>14.395</td>\n",
              "      <td>15.631</td>\n",
              "      <td>682.057</td>\n",
              "      <td>0</td>\n",
              "      <td>0</td>\n",
              "    </tr>\n",
              "    <tr>\n",
              "      <th>2</th>\n",
              "      <td>2</td>\n",
              "      <td>A</td>\n",
              "      <td>4.424008</td>\n",
              "      <td>material_7</td>\n",
              "      <td>material_8</td>\n",
              "      <td>9</td>\n",
              "      <td>5</td>\n",
              "      <td>12.0</td>\n",
              "      <td>1.0</td>\n",
              "      <td>5.0</td>\n",
              "      <td>...</td>\n",
              "      <td>15.607</td>\n",
              "      <td>19.310</td>\n",
              "      <td>13.798</td>\n",
              "      <td>16.711</td>\n",
              "      <td>18.631</td>\n",
              "      <td>14.094</td>\n",
              "      <td>17.946</td>\n",
              "      <td>663.376</td>\n",
              "      <td>0</td>\n",
              "      <td>0</td>\n",
              "    </tr>\n",
              "    <tr>\n",
              "      <th>3</th>\n",
              "      <td>3</td>\n",
              "      <td>A</td>\n",
              "      <td>4.625659</td>\n",
              "      <td>material_7</td>\n",
              "      <td>material_8</td>\n",
              "      <td>9</td>\n",
              "      <td>5</td>\n",
              "      <td>13.0</td>\n",
              "      <td>2.0</td>\n",
              "      <td>6.0</td>\n",
              "      <td>...</td>\n",
              "      <td>16.346</td>\n",
              "      <td>18.377</td>\n",
              "      <td>10.020</td>\n",
              "      <td>15.250</td>\n",
              "      <td>15.562</td>\n",
              "      <td>16.154</td>\n",
              "      <td>17.172</td>\n",
              "      <td>826.282</td>\n",
              "      <td>0</td>\n",
              "      <td>0</td>\n",
              "    </tr>\n",
              "    <tr>\n",
              "      <th>4</th>\n",
              "      <td>4</td>\n",
              "      <td>A</td>\n",
              "      <td>5.242064</td>\n",
              "      <td>material_7</td>\n",
              "      <td>material_8</td>\n",
              "      <td>9</td>\n",
              "      <td>5</td>\n",
              "      <td>9.0</td>\n",
              "      <td>2.0</td>\n",
              "      <td>8.0</td>\n",
              "      <td>...</td>\n",
              "      <td>17.082</td>\n",
              "      <td>19.932</td>\n",
              "      <td>12.428</td>\n",
              "      <td>16.182</td>\n",
              "      <td>12.760</td>\n",
              "      <td>13.153</td>\n",
              "      <td>16.412</td>\n",
              "      <td>579.885</td>\n",
              "      <td>0</td>\n",
              "      <td>0</td>\n",
              "    </tr>\n",
              "  </tbody>\n",
              "</table>\n",
              "<p>5 rows × 27 columns</p>\n",
              "</div>\n",
              "      <button class=\"colab-df-convert\" onclick=\"convertToInteractive('df-d1dced2d-652d-4bb8-b050-fa48522a906b')\"\n",
              "              title=\"Convert this dataframe to an interactive table.\"\n",
              "              style=\"display:none;\">\n",
              "        \n",
              "  <svg xmlns=\"http://www.w3.org/2000/svg\" height=\"24px\"viewBox=\"0 0 24 24\"\n",
              "       width=\"24px\">\n",
              "    <path d=\"M0 0h24v24H0V0z\" fill=\"none\"/>\n",
              "    <path d=\"M18.56 5.44l.94 2.06.94-2.06 2.06-.94-2.06-.94-.94-2.06-.94 2.06-2.06.94zm-11 1L8.5 8.5l.94-2.06 2.06-.94-2.06-.94L8.5 2.5l-.94 2.06-2.06.94zm10 10l.94 2.06.94-2.06 2.06-.94-2.06-.94-.94-2.06-.94 2.06-2.06.94z\"/><path d=\"M17.41 7.96l-1.37-1.37c-.4-.4-.92-.59-1.43-.59-.52 0-1.04.2-1.43.59L10.3 9.45l-7.72 7.72c-.78.78-.78 2.05 0 2.83L4 21.41c.39.39.9.59 1.41.59.51 0 1.02-.2 1.41-.59l7.78-7.78 2.81-2.81c.8-.78.8-2.07 0-2.86zM5.41 20L4 18.59l7.72-7.72 1.47 1.35L5.41 20z\"/>\n",
              "  </svg>\n",
              "      </button>\n",
              "      \n",
              "  <style>\n",
              "    .colab-df-container {\n",
              "      display:flex;\n",
              "      flex-wrap:wrap;\n",
              "      gap: 12px;\n",
              "    }\n",
              "\n",
              "    .colab-df-convert {\n",
              "      background-color: #E8F0FE;\n",
              "      border: none;\n",
              "      border-radius: 50%;\n",
              "      cursor: pointer;\n",
              "      display: none;\n",
              "      fill: #1967D2;\n",
              "      height: 32px;\n",
              "      padding: 0 0 0 0;\n",
              "      width: 32px;\n",
              "    }\n",
              "\n",
              "    .colab-df-convert:hover {\n",
              "      background-color: #E2EBFA;\n",
              "      box-shadow: 0px 1px 2px rgba(60, 64, 67, 0.3), 0px 1px 3px 1px rgba(60, 64, 67, 0.15);\n",
              "      fill: #174EA6;\n",
              "    }\n",
              "\n",
              "    [theme=dark] .colab-df-convert {\n",
              "      background-color: #3B4455;\n",
              "      fill: #D2E3FC;\n",
              "    }\n",
              "\n",
              "    [theme=dark] .colab-df-convert:hover {\n",
              "      background-color: #434B5C;\n",
              "      box-shadow: 0px 1px 3px 1px rgba(0, 0, 0, 0.15);\n",
              "      filter: drop-shadow(0px 1px 2px rgba(0, 0, 0, 0.3));\n",
              "      fill: #FFFFFF;\n",
              "    }\n",
              "  </style>\n",
              "\n",
              "      <script>\n",
              "        const buttonEl =\n",
              "          document.querySelector('#df-d1dced2d-652d-4bb8-b050-fa48522a906b button.colab-df-convert');\n",
              "        buttonEl.style.display =\n",
              "          google.colab.kernel.accessAllowed ? 'block' : 'none';\n",
              "\n",
              "        async function convertToInteractive(key) {\n",
              "          const element = document.querySelector('#df-d1dced2d-652d-4bb8-b050-fa48522a906b');\n",
              "          const dataTable =\n",
              "            await google.colab.kernel.invokeFunction('convertToInteractive',\n",
              "                                                     [key], {});\n",
              "          if (!dataTable) return;\n",
              "\n",
              "          const docLinkHtml = 'Like what you see? Visit the ' +\n",
              "            '<a target=\"_blank\" href=https://colab.research.google.com/notebooks/data_table.ipynb>data table notebook</a>'\n",
              "            + ' to learn more about interactive tables.';\n",
              "          element.innerHTML = '';\n",
              "          dataTable['output_type'] = 'display_data';\n",
              "          await google.colab.output.renderOutput(dataTable, element);\n",
              "          const docLink = document.createElement('div');\n",
              "          docLink.innerHTML = docLinkHtml;\n",
              "          element.appendChild(docLink);\n",
              "        }\n",
              "      </script>\n",
              "    </div>\n",
              "  </div>\n",
              "  "
            ]
          },
          "metadata": {},
          "execution_count": 143
        }
      ]
    },
    {
      "cell_type": "code",
      "source": [
        "select_feature = ['m3_missing', 'm5_missing', 'measurement_1', 'measurement_2', 'loading', 'measurement_17']"
      ],
      "metadata": {
        "execution": {
          "iopub.status.busy": "2022-08-29T05:51:56.387967Z",
          "iopub.execute_input": "2022-08-29T05:51:56.388447Z",
          "iopub.status.idle": "2022-08-29T05:51:56.395948Z",
          "shell.execute_reply.started": "2022-08-29T05:51:56.388399Z",
          "shell.execute_reply": "2022-08-29T05:51:56.394337Z"
        },
        "trusted": true,
        "id": "pbiolNtvlnqt"
      },
      "execution_count": 144,
      "outputs": []
    },
    {
      "cell_type": "code",
      "source": [
        "x_train, x_val, x_test = scale(x[select_feature], x[select_feature], test.copy(), select_feature)"
      ],
      "metadata": {
        "id": "W6VDAHMlUBcK"
      },
      "execution_count": 145,
      "outputs": []
    },
    {
      "cell_type": "markdown",
      "source": [
        "Model"
      ],
      "metadata": {
        "id": "5hShU5foWDdA"
      }
    },
    {
      "cell_type": "code",
      "source": [
        "model = LogisticRegression(max_iter=1000, C=0.0001, penalty='l2', solver='newton-cg')\n",
        "model.fit(x_train, y) "
      ],
      "metadata": {
        "colab": {
          "base_uri": "https://localhost:8080/"
        },
        "id": "i1GGObEUaoWt",
        "outputId": "5c03adbc-61af-4989-efce-44710a6a863d"
      },
      "execution_count": 146,
      "outputs": [
        {
          "output_type": "execute_result",
          "data": {
            "text/plain": [
              "LogisticRegression(C=0.0001, max_iter=1000, solver='newton-cg')"
            ]
          },
          "metadata": {},
          "execution_count": 146
        }
      ]
    },
    {
      "cell_type": "code",
      "source": [
        "import pickle\n",
        "with open('model.pickle', 'wb') as f:\n",
        "    pickle.dump(model, f)"
      ],
      "metadata": {
        "id": "QImQDI8IT_q8"
      },
      "execution_count": 147,
      "outputs": []
    }
  ]
}