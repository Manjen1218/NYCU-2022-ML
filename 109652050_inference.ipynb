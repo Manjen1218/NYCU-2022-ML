{
  "nbformat": 4,
  "nbformat_minor": 0,
  "metadata": {
    "colab": {
      "provenance": []
    },
    "kernelspec": {
      "name": "python3",
      "display_name": "Python 3"
    },
    "language_info": {
      "name": "python"
    }
  },
  "cells": [
    {
      "cell_type": "code",
      "source": [
        "import numpy as np\n",
        "import pandas as pd\n",
        "from sklearn.preprocessing import StandardScaler\n",
        "from sklearn.impute import KNNImputer\n",
        "from sklearn.linear_model import LogisticRegression, HuberRegressor\n",
        "from sklearn.metrics import roc_auc_score, accuracy_score"
      ],
      "metadata": {
        "id": "hwBaAOO5p-hQ"
      },
      "execution_count": 9,
      "outputs": []
    },
    {
      "cell_type": "markdown",
      "source": [
        "Load Model"
      ],
      "metadata": {
        "id": "3r7Q03mhQk0s"
      }
    },
    {
      "cell_type": "code",
      "source": [
        "import pickle\n",
        "with open('model.pickle', 'rb') as f:\n",
        "    model = pickle.load(f)"
      ],
      "metadata": {
        "id": "uArFld-RqHSC"
      },
      "execution_count": 10,
      "outputs": []
    },
    {
      "cell_type": "markdown",
      "source": [
        "Load Data"
      ],
      "metadata": {
        "id": "pxT1zlwkQqNc"
      }
    },
    {
      "cell_type": "code",
      "source": [
        "df_train = pd.read_csv('train.csv')\n",
        "df_test = pd.read_csv('test.csv')"
      ],
      "metadata": {
        "id": "9zUUV_eEudda"
      },
      "execution_count": 11,
      "outputs": []
    },
    {
      "cell_type": "code",
      "source": [
        "data = pd.concat([df_train, df_test])\n",
        "data = pd.concat([df_train, df_test])\n",
        "data['m3_missing'] = data['measurement_3'].isnull().astype(np.int8)\n",
        "data['m5_missing'] = data['measurement_5'].isnull().astype(np.int8)\n",
        "data['loading'] = np.log1p(data['loading'])"
      ],
      "metadata": {
        "id": "iKVlPH0RqZH8"
      },
      "execution_count": 12,
      "outputs": []
    },
    {
      "cell_type": "markdown",
      "source": [
        "Feature Extraction"
      ],
      "metadata": {
        "id": "JeGiVeI6Qsu9"
      }
    },
    {
      "cell_type": "code",
      "source": [
        "feature = [f for f in df_test.columns if f.startswith('measurement') or f=='loading']\n",
        "\n",
        "fill_dict = {\n",
        "    'A': ['measurement_5','measurement_6','measurement_8'],\n",
        "    'B': ['measurement_4','measurement_5','measurement_7'],\n",
        "    'C': ['measurement_5','measurement_7','measurement_8','measurement_9'],\n",
        "    'D': ['measurement_5','measurement_6','measurement_7','measurement_8'],\n",
        "    'E': ['measurement_4','measurement_5','measurement_6','measurement_8'],\n",
        "    'F': ['measurement_4','measurement_5','measurement_6','measurement_7'],\n",
        "    'G': ['measurement_4','measurement_6','measurement_8','measurement_9'],\n",
        "    'H': ['measurement_4','measurement_5','measurement_7','measurement_8','measurement_9'],\n",
        "    'I': ['measurement_3','measurement_7','measurement_8']\n",
        "}"
      ],
      "metadata": {
        "id": "DneX6LH2qj9-"
      },
      "execution_count": 13,
      "outputs": []
    },
    {
      "cell_type": "markdown",
      "source": [
        "Preprocessing"
      ],
      "metadata": {
        "id": "4WeAo0F2Qvf8"
      }
    },
    {
      "cell_type": "code",
      "source": [
        "#filling NA\n",
        "for code in data.product_code.unique():\n",
        "    tmp = data[data.product_code==code]\n",
        "    column = fill_dict[code]\n",
        "    tmp_train = tmp[column+['measurement_17']].dropna(how='any')\n",
        "    tmp_test = tmp[(tmp[column].isnull().sum(axis=1)==0)&(tmp['measurement_17'].isnull())]\n",
        "    print(f\"code {code} has {len(tmp_test)} samples to fill nan\")\n",
        "    \n",
        "    model1 = HuberRegressor()\n",
        "    model1.fit(tmp_train[column], tmp_train['measurement_17'])\n",
        "    data.loc[(data.product_code==code)&(data[column].isnull().sum(axis=1)==0)&(data['measurement_17'].isnull()), 'measurement_17'] = model1.predict(tmp_test[column])\n",
        "\n",
        "    model2 = KNNImputer(n_neighbors=5)\n",
        "    data.loc[data.product_code==code, feature] = model2.fit_transform(data.loc[data.product_code==code, feature])\n",
        "test = data[data.failure.isnull()]"
      ],
      "metadata": {
        "colab": {
          "base_uri": "https://localhost:8080/"
        },
        "id": "-9N5JKjQqJXC",
        "outputId": "8c271ca2-0d22-4cf0-c4d2-e59c4b4c7f09"
      },
      "execution_count": 14,
      "outputs": [
        {
          "output_type": "stream",
          "name": "stdout",
          "text": [
            "code A has 386 samples to fill nan\n",
            "code B has 418 samples to fill nan\n",
            "code C has 391 samples to fill nan\n",
            "code D has 398 samples to fill nan\n",
            "code E has 429 samples to fill nan\n",
            "code F has 420 samples to fill nan\n",
            "code G has 373 samples to fill nan\n",
            "code H has 361 samples to fill nan\n",
            "code I has 377 samples to fill nan\n"
          ]
        }
      ]
    },
    {
      "cell_type": "code",
      "source": [
        "train = data[data.failure.notnull()]\n",
        "test = data[data.failure.isnull()]\n",
        "\n",
        "x = train.drop(['failure'], axis=1)\n",
        "y = train['failure'].astype(int)\n",
        "test = test.drop(['failure'], axis=1)"
      ],
      "metadata": {
        "id": "seLD7_zNujEw"
      },
      "execution_count": 15,
      "outputs": []
    },
    {
      "cell_type": "markdown",
      "source": [
        "Scale Features"
      ],
      "metadata": {
        "id": "eGJ7ad8qQ0Wj"
      }
    },
    {
      "cell_type": "code",
      "source": [
        "select_feature = ['m3_missing', 'm5_missing', 'measurement_1', 'measurement_2', 'loading', 'measurement_17']"
      ],
      "metadata": {
        "id": "d5KmChaAq9OE"
      },
      "execution_count": 16,
      "outputs": []
    },
    {
      "cell_type": "code",
      "source": [
        "scaler = StandardScaler()\n",
        "    \n",
        "scaled_train = scaler.fit_transform(x[select_feature])\n",
        "scaled_val = scaler.transform(x[select_feature])\n",
        "scaled_test = scaler.transform(test[select_feature])\n",
        "    \n",
        "new_test = test.copy()\n",
        "new_test[select_feature] = scaled_test\n",
        "\n",
        "assert len(test) == len(new_test)"
      ],
      "metadata": {
        "id": "2W5DlzCiqwPr"
      },
      "execution_count": 17,
      "outputs": []
    },
    {
      "cell_type": "markdown",
      "source": [
        "Predict Model"
      ],
      "metadata": {
        "id": "D07lJApMrBf-"
      }
    },
    {
      "cell_type": "code",
      "execution_count": 18,
      "metadata": {
        "colab": {
          "base_uri": "https://localhost:8080/",
          "height": 206
        },
        "id": "T5Zq4rigpYb5",
        "outputId": "3ef94f32-adde-43b4-a9d3-77b4fd8b4c21"
      },
      "outputs": [
        {
          "output_type": "execute_result",
          "data": {
            "text/plain": [
              "      id   failure\n",
              "0  26570  0.208202\n",
              "1  26571  0.199114\n",
              "2  26572  0.203500\n",
              "3  26573  0.205523\n",
              "4  26574  0.243987"
            ],
            "text/html": [
              "\n",
              "  <div id=\"df-948aff4f-041b-4bc2-82a7-c043a8cbe601\">\n",
              "    <div class=\"colab-df-container\">\n",
              "      <div>\n",
              "<style scoped>\n",
              "    .dataframe tbody tr th:only-of-type {\n",
              "        vertical-align: middle;\n",
              "    }\n",
              "\n",
              "    .dataframe tbody tr th {\n",
              "        vertical-align: top;\n",
              "    }\n",
              "\n",
              "    .dataframe thead th {\n",
              "        text-align: right;\n",
              "    }\n",
              "</style>\n",
              "<table border=\"1\" class=\"dataframe\">\n",
              "  <thead>\n",
              "    <tr style=\"text-align: right;\">\n",
              "      <th></th>\n",
              "      <th>id</th>\n",
              "      <th>failure</th>\n",
              "    </tr>\n",
              "  </thead>\n",
              "  <tbody>\n",
              "    <tr>\n",
              "      <th>0</th>\n",
              "      <td>26570</td>\n",
              "      <td>0.208202</td>\n",
              "    </tr>\n",
              "    <tr>\n",
              "      <th>1</th>\n",
              "      <td>26571</td>\n",
              "      <td>0.199114</td>\n",
              "    </tr>\n",
              "    <tr>\n",
              "      <th>2</th>\n",
              "      <td>26572</td>\n",
              "      <td>0.203500</td>\n",
              "    </tr>\n",
              "    <tr>\n",
              "      <th>3</th>\n",
              "      <td>26573</td>\n",
              "      <td>0.205523</td>\n",
              "    </tr>\n",
              "    <tr>\n",
              "      <th>4</th>\n",
              "      <td>26574</td>\n",
              "      <td>0.243987</td>\n",
              "    </tr>\n",
              "  </tbody>\n",
              "</table>\n",
              "</div>\n",
              "      <button class=\"colab-df-convert\" onclick=\"convertToInteractive('df-948aff4f-041b-4bc2-82a7-c043a8cbe601')\"\n",
              "              title=\"Convert this dataframe to an interactive table.\"\n",
              "              style=\"display:none;\">\n",
              "        \n",
              "  <svg xmlns=\"http://www.w3.org/2000/svg\" height=\"24px\"viewBox=\"0 0 24 24\"\n",
              "       width=\"24px\">\n",
              "    <path d=\"M0 0h24v24H0V0z\" fill=\"none\"/>\n",
              "    <path d=\"M18.56 5.44l.94 2.06.94-2.06 2.06-.94-2.06-.94-.94-2.06-.94 2.06-2.06.94zm-11 1L8.5 8.5l.94-2.06 2.06-.94-2.06-.94L8.5 2.5l-.94 2.06-2.06.94zm10 10l.94 2.06.94-2.06 2.06-.94-2.06-.94-.94-2.06-.94 2.06-2.06.94z\"/><path d=\"M17.41 7.96l-1.37-1.37c-.4-.4-.92-.59-1.43-.59-.52 0-1.04.2-1.43.59L10.3 9.45l-7.72 7.72c-.78.78-.78 2.05 0 2.83L4 21.41c.39.39.9.59 1.41.59.51 0 1.02-.2 1.41-.59l7.78-7.78 2.81-2.81c.8-.78.8-2.07 0-2.86zM5.41 20L4 18.59l7.72-7.72 1.47 1.35L5.41 20z\"/>\n",
              "  </svg>\n",
              "      </button>\n",
              "      \n",
              "  <style>\n",
              "    .colab-df-container {\n",
              "      display:flex;\n",
              "      flex-wrap:wrap;\n",
              "      gap: 12px;\n",
              "    }\n",
              "\n",
              "    .colab-df-convert {\n",
              "      background-color: #E8F0FE;\n",
              "      border: none;\n",
              "      border-radius: 50%;\n",
              "      cursor: pointer;\n",
              "      display: none;\n",
              "      fill: #1967D2;\n",
              "      height: 32px;\n",
              "      padding: 0 0 0 0;\n",
              "      width: 32px;\n",
              "    }\n",
              "\n",
              "    .colab-df-convert:hover {\n",
              "      background-color: #E2EBFA;\n",
              "      box-shadow: 0px 1px 2px rgba(60, 64, 67, 0.3), 0px 1px 3px 1px rgba(60, 64, 67, 0.15);\n",
              "      fill: #174EA6;\n",
              "    }\n",
              "\n",
              "    [theme=dark] .colab-df-convert {\n",
              "      background-color: #3B4455;\n",
              "      fill: #D2E3FC;\n",
              "    }\n",
              "\n",
              "    [theme=dark] .colab-df-convert:hover {\n",
              "      background-color: #434B5C;\n",
              "      box-shadow: 0px 1px 3px 1px rgba(0, 0, 0, 0.15);\n",
              "      filter: drop-shadow(0px 1px 2px rgba(0, 0, 0, 0.3));\n",
              "      fill: #FFFFFF;\n",
              "    }\n",
              "  </style>\n",
              "\n",
              "      <script>\n",
              "        const buttonEl =\n",
              "          document.querySelector('#df-948aff4f-041b-4bc2-82a7-c043a8cbe601 button.colab-df-convert');\n",
              "        buttonEl.style.display =\n",
              "          google.colab.kernel.accessAllowed ? 'block' : 'none';\n",
              "\n",
              "        async function convertToInteractive(key) {\n",
              "          const element = document.querySelector('#df-948aff4f-041b-4bc2-82a7-c043a8cbe601');\n",
              "          const dataTable =\n",
              "            await google.colab.kernel.invokeFunction('convertToInteractive',\n",
              "                                                     [key], {});\n",
              "          if (!dataTable) return;\n",
              "\n",
              "          const docLinkHtml = 'Like what you see? Visit the ' +\n",
              "            '<a target=\"_blank\" href=https://colab.research.google.com/notebooks/data_table.ipynb>data table notebook</a>'\n",
              "            + ' to learn more about interactive tables.';\n",
              "          element.innerHTML = '';\n",
              "          dataTable['output_type'] = 'display_data';\n",
              "          await google.colab.output.renderOutput(dataTable, element);\n",
              "          const docLink = document.createElement('div');\n",
              "          docLink.innerHTML = docLinkHtml;\n",
              "          element.appendChild(docLink);\n",
              "        }\n",
              "      </script>\n",
              "    </div>\n",
              "  </div>\n",
              "  "
            ]
          },
          "metadata": {},
          "execution_count": 18
        }
      ],
      "source": [
        "submission = pd.read_csv('sample_submission.csv')\n",
        "submission['failure'] = model.predict_proba(new_test[select_feature])[:, 1]\n",
        "submission[['id', 'failure']].to_csv('submission.csv', index=False)\n",
        "submission.head()"
      ]
    }
  ]
}