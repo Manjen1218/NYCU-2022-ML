{
  "nbformat": 4,
  "nbformat_minor": 0,
  "metadata": {
    "colab": {
      "provenance": []
    },
    "kernelspec": {
      "name": "python3",
      "display_name": "Python 3"
    },
    "language_info": {
      "name": "python"
    }
  },
  "cells": [
    {
      "cell_type": "code",
      "execution_count": null,
      "metadata": {
        "id": "T5Zq4rigpYb5"
      },
      "outputs": [],
      "source": [
        "import pickle\n",
        "with open('model.pickle', 'rb') as f:\n",
        "    model = pickle.load(f)\n",
        "\n",
        "submission = pd.read_csv('sample_submission.csv')\n",
        "submission['failure'] = model.predict_proba(x_test[select_feature])[:, 1]\n",
        "submission[['id', 'failure']].to_csv('submission.csv', index=False)\n",
        "submission.head()"
      ]
    }
  ]
}